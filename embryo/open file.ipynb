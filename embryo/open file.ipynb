{
 "cells": [
  {
   "cell_type": "code",
   "execution_count": 37,
   "id": "comprehensive-pasta",
   "metadata": {},
   "outputs": [],
   "source": [
    "import scanpy as sc\n",
    "import matplotlib.pyplot as plt\n",
    "import numpy as np\n",
    "import pandas as pd\n",
    "from scipy.io import mmread\n",
    "import scipy.sparse as sp\n",
    "import anndata"
   ]
  },
  {
   "cell_type": "code",
   "execution_count": 10,
   "id": "obvious-competition",
   "metadata": {},
   "outputs": [],
   "source": [
    "matrix = mmread(\"GSE166692_sciSpace_count_matrix.mtx.gz\")"
   ]
  },
  {
   "cell_type": "code",
   "execution_count": 23,
   "id": "marine-ukraine",
   "metadata": {},
   "outputs": [],
   "source": [
    "cell_data = pd.read_csv('GSE166692_sciSpace_cell_metadata.tsv.gz', compression='infer', sep='\\t')"
   ]
  },
  {
   "cell_type": "code",
   "execution_count": 26,
   "id": "continental-banks",
   "metadata": {},
   "outputs": [],
   "source": [
    "gene_data = pd.read_csv('GSE166692_sciSpace_gene_metadata.tsv.gz', compression='infer', sep='\\t')"
   ]
  },
  {
   "cell_type": "code",
   "execution_count": 27,
   "id": "under-mattress",
   "metadata": {},
   "outputs": [
    {
     "data": {
      "text/html": [
       "<div>\n",
       "<style scoped>\n",
       "    .dataframe tbody tr th:only-of-type {\n",
       "        vertical-align: middle;\n",
       "    }\n",
       "\n",
       "    .dataframe tbody tr th {\n",
       "        vertical-align: top;\n",
       "    }\n",
       "\n",
       "    .dataframe thead th {\n",
       "        text-align: right;\n",
       "    }\n",
       "</style>\n",
       "<table border=\"1\" class=\"dataframe\">\n",
       "  <thead>\n",
       "    <tr style=\"text-align: right;\">\n",
       "      <th></th>\n",
       "      <th>id</th>\n",
       "      <th>gene_short_name</th>\n",
       "    </tr>\n",
       "  </thead>\n",
       "  <tbody>\n",
       "    <tr>\n",
       "      <th>ENSMUSG00000000001.4</th>\n",
       "      <td>ENSMUSG00000000001.4</td>\n",
       "      <td>Gnai3</td>\n",
       "    </tr>\n",
       "    <tr>\n",
       "      <th>ENSMUSG00000000003.15</th>\n",
       "      <td>ENSMUSG00000000003.15</td>\n",
       "      <td>Pbsn</td>\n",
       "    </tr>\n",
       "    <tr>\n",
       "      <th>ENSMUSG00000000028.14</th>\n",
       "      <td>ENSMUSG00000000028.14</td>\n",
       "      <td>Cdc45</td>\n",
       "    </tr>\n",
       "    <tr>\n",
       "      <th>ENSMUSG00000000031.15</th>\n",
       "      <td>ENSMUSG00000000031.15</td>\n",
       "      <td>H19</td>\n",
       "    </tr>\n",
       "    <tr>\n",
       "      <th>ENSMUSG00000000037.16</th>\n",
       "      <td>ENSMUSG00000000037.16</td>\n",
       "      <td>Scml2</td>\n",
       "    </tr>\n",
       "  </tbody>\n",
       "</table>\n",
       "</div>"
      ],
      "text/plain": [
       "                                          id gene_short_name\n",
       "ENSMUSG00000000001.4    ENSMUSG00000000001.4           Gnai3\n",
       "ENSMUSG00000000003.15  ENSMUSG00000000003.15            Pbsn\n",
       "ENSMUSG00000000028.14  ENSMUSG00000000028.14           Cdc45\n",
       "ENSMUSG00000000031.15  ENSMUSG00000000031.15             H19\n",
       "ENSMUSG00000000037.16  ENSMUSG00000000037.16           Scml2"
      ]
     },
     "execution_count": 27,
     "metadata": {},
     "output_type": "execute_result"
    }
   ],
   "source": [
    "gene_data.head()"
   ]
  },
  {
   "cell_type": "code",
   "execution_count": 38,
   "id": "assured-killer",
   "metadata": {},
   "outputs": [],
   "source": [
    "csr_mat = sp.csr_matrix(matrix.T)"
   ]
  },
  {
   "cell_type": "code",
   "execution_count": 39,
   "id": "electoral-dancing",
   "metadata": {},
   "outputs": [],
   "source": [
    "adata = anndata.AnnData(csr_mat, cell_data, gene_data)"
   ]
  },
  {
   "cell_type": "code",
   "execution_count": 40,
   "id": "outdoor-scratch",
   "metadata": {},
   "outputs": [
    {
     "data": {
      "text/plain": [
       "<122278x52636 sparse matrix of type '<class 'numpy.float32'>'\n",
       "\twith 150563841 stored elements in Compressed Sparse Row format>"
      ]
     },
     "execution_count": 40,
     "metadata": {},
     "output_type": "execute_result"
    }
   ],
   "source": [
    "adata.X"
   ]
  },
  {
   "cell_type": "code",
   "execution_count": 41,
   "id": "northern-tampa",
   "metadata": {},
   "outputs": [
    {
     "name": "stderr",
     "output_type": "stream",
     "text": [
      "... storing 'experiment' as categorical\n",
      "... storing 'max_slide_id' as categorical\n",
      "... storing 'slide_id' as categorical\n",
      "... storing 'top_spot' as categorical\n",
      "... storing 'final_cluster_label' as categorical\n",
      "... storing 'manual_annotation_2' as categorical\n",
      "... storing 'anatomical_annotation' as categorical\n",
      "... storing 'brain_region' as categorical\n",
      "... storing 'lamanno_Punchcard' as categorical\n",
      "... storing 'lamanno_Tissue' as categorical\n",
      "... storing 'gene_short_name' as categorical\n"
     ]
    }
   ],
   "source": [
    "adata.write_h5ad(\"total_dataset.h5ad\", compression=\"gzip\")"
   ]
  },
  {
   "cell_type": "code",
   "execution_count": null,
   "id": "significant-sense",
   "metadata": {},
   "outputs": [],
   "source": []
  }
 ],
 "metadata": {
  "kernelspec": {
   "display_name": "Python 3",
   "language": "python",
   "name": "python3"
  },
  "language_info": {
   "codemirror_mode": {
    "name": "ipython",
    "version": 3
   },
   "file_extension": ".py",
   "mimetype": "text/x-python",
   "name": "python",
   "nbconvert_exporter": "python",
   "pygments_lexer": "ipython3",
   "version": "3.7.7"
  }
 },
 "nbformat": 4,
 "nbformat_minor": 5
}

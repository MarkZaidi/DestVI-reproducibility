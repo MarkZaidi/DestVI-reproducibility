{
 "cells": [
  {
   "cell_type": "markdown",
   "metadata": {},
   "source": [
    "## Importing packages and data"
   ]
  },
  {
   "cell_type": "code",
   "execution_count": 1,
   "metadata": {},
   "outputs": [
    {
     "data": {
      "text/html": [
       "<pre style=\"white-space:pre;overflow-x:auto;line-height:normal;font-family:Menlo,'DejaVu Sans Mono',consolas,'Courier New',monospace\"><span style=\"color: #000080; text-decoration-color: #000080\">INFO    </span> Running DestVI                                                                      \n",
       "</pre>\n"
      ],
      "text/plain": [
       "<rich.jupyter.JupyterRenderable at 0x7febd5f4b990>"
      ]
     },
     "metadata": {},
     "output_type": "display_data"
    },
    {
     "data": {
      "text/html": [
       "<pre style=\"white-space:pre;overflow-x:auto;line-height:normal;font-family:Menlo,'DejaVu Sans Mono',consolas,'Courier New',monospace\"><span style=\"color: #000080; text-decoration-color: #000080\">INFO    </span> Found directory                                                                     \n",
       "         at:<span style=\"color: #800080; text-decoration-color: #800080\">/data/yosef2/users/pierreboyeau/scvi-tools/simulations_code/out/destvi_latent/</span>   \n",
       "</pre>\n"
      ],
      "text/plain": [
       "<rich.jupyter.JupyterRenderable at 0x7febd5f4b950>"
      ]
     },
     "metadata": {},
     "output_type": "display_data"
    }
   ],
   "source": [
    "#!/usr/bin/env python3\n",
    "# -*- coding: utf-8\n",
    "\n",
    "import os\n",
    "import click\n",
    "import copy\n",
    "import numpy as np\n",
    "\n",
    "import torch\n",
    "import scanpy as sc\n",
    "import matplotlib.pyplot as plt\n",
    "import seaborn as sns\n",
    "import pandas as pd\n",
    "import anndata\n",
    "import plotnine as p9\n",
    "\n",
    "import scvi\n",
    "from scvi.external import CondSCVI, DestVI\n",
    "from destvi_spatial import DestVISpatial\n",
    "from sklearn.neighbors import NearestNeighbors\n",
    "from sklearn.cluster import KMeans\n",
    "\n",
    "scvi.settings.reset_logging_handler()\n",
    "import logging\n",
    "from utils import get_mean_normal, find_location_index_cell_type, metrics_vector, discrete_histogram\n",
    "\n",
    "logger = logging.getLogger(\"scvi\")\n",
    "\n",
    "\n",
    "def construct_neighboors(adata, n_neighbors=5):\n",
    "    locs = adata.obsm[\"locations\"]\n",
    "    nbrs = NearestNeighbors(n_neighbors=n_neighbors, algorithm=\"ball_tree\").fit(locs)\n",
    "    idx_to_neighs = nbrs.kneighbors(locs)[1][:, 1:]\n",
    "    n_indices_ = torch.tensor(idx_to_neighs)\n",
    "    X = torch.tensor(st_adata.X.todense())\n",
    "    X_neigh = X[n_indices_]\n",
    "    return X_neigh.numpy(), n_indices_.numpy()\n",
    "\n",
    "\n",
    "def construct_spatial_partition(adata, n_cv=5):\n",
    "    locs = adata.obsm[\"locations\"]\n",
    "    clust = KMeans(n_clusters=n_cv, n_init=100)\n",
    "    attribs = clust.fit_predict(locs)\n",
    "    return attribs\n",
    "\n",
    "\n",
    "WORKING_DIR = \"/data/yosef2/users/pierreboyeau/scvi-tools/simulations_code\"\n",
    "input_dir = os.path.join(WORKING_DIR, \"out/\")\n",
    "# output_suffix = os.path.join(WORKING_DIR, \"destvi\")\n",
    "# WORKING_DIR  = \"/data/yosef2/users/pierreboyeau/scvi-tools/simulations_code\"\n",
    "# input_dir = \"out/\"\n",
    "output_suffix = \"destvi\"\n",
    "sc_epochs = 250\n",
    "st_epochs = 250\n",
    "amortization = \"latent\"\n",
    "\n",
    "sc_adata = sc.read_h5ad(input_dir + \"sc_simu.h5ad\")\n",
    "st_adata = sc.read_h5ad(input_dir + \"st_simu.h5ad\")\n",
    "\n",
    "logger.info(\"Running DestVI\")\n",
    "\n",
    "# path management\n",
    "output_dir = input_dir + output_suffix + \"_\" + amortization + \"/\"\n",
    "\n",
    "if not os.path.isdir(output_dir):\n",
    "    logger.info(\"Directory doesn't exist, creating it\")\n",
    "    os.mkdir(output_dir)\n",
    "else:\n",
    "    logger.info(f\"Found directory at:{output_dir}\")\n",
    "\n",
    "\n",
    "def get_proportions_df(mdl):\n",
    "    proportions = mdl.get_proportions(dataset=st_adata)\n",
    "    proportions = pd.DataFrame(proportions).assign(spot=np.arange(1600))\n",
    "    props_all = (\n",
    "        proportions\n",
    "        .rename(\n",
    "            columns={\n",
    "                0: \"ct0\",\n",
    "                1: \"ct1\",\n",
    "                2: \"ct2\",\n",
    "                3: \"ct3\",\n",
    "                4: \"ct4\",\n",
    "            }\n",
    "        )\n",
    "    )\n",
    "    props_all = (\n",
    "        props_all\n",
    "        .set_index([\"spot\"])\n",
    "        .stack()\n",
    "        .to_frame(\"proportion\")\n",
    "        .reset_index()\n",
    "        .rename(columns={\"level_1\": \"celltype\"})\n",
    "    )\n",
    "    return props_all\n",
    "\n",
    "\n",
    "def destvi_get_metrics(spatial_model):\n",
    "    nb_sub_ct = 1\n",
    "    # second get the proportion estimates\n",
    "    proportions = spatial_model.get_proportions(dataset=st_adata).values\n",
    "    agg_prop_estimates = proportions[:, ::nb_sub_ct]\n",
    "    for i in range(1, nb_sub_ct):\n",
    "        agg_prop_estimates += proportions[:, i::nb_sub_ct]\n",
    "\n",
    "    # third impute at required locations\n",
    "    # for each cell type, query the model at certain locations and compare to groundtruth\n",
    "    # create a global flush for comparaison across cell types\n",
    "    imputed_expression = np.zeros_like(s_groundtruth)\n",
    "    for ct in range(C):\n",
    "        indices, _ = find_location_index_cell_type(st_adata.obsm[\"locations\"], ct, \n",
    "                                            s_location, s_ct)\n",
    "        n_location = indices.shape[0]\n",
    "        ind_x = indices[:, np.newaxis].astype(np.long)\n",
    "        x = st_adata.X[ind_x[:, 0]].A\n",
    "        if nb_sub_ct == 1:\n",
    "            y = ct * np.ones(shape=(n_location, 1), dtype=np.long)\n",
    "            expression = spatial_model.get_scale_for_ct(x, ind_x, y)\n",
    "        else:\n",
    "            # hierarchical clusters in Stereoscope\n",
    "            partial_cell_type = proportions[ind_x[:, 0], nb_sub_ct*ct:nb_sub_ct*ct+nb_sub_ct] \n",
    "            partial_cell_type /= np.sum(partial_cell_type, axis=1)[:, np.newaxis] # shape (cells, nb_sub_ct)\n",
    "            expression = np.zeros(shape=(ind_x.shape[0], x.shape[-1]))\n",
    "            for t in range(nb_sub_ct):\n",
    "                y = t * np.ones(shape=(n_location, 1), dtype=np.long) + nb_sub_ct * ct\n",
    "                expression += partial_cell_type[:, [t]] * spatial_model.get_scale_for_ct(x, ind_x, y)\n",
    "\n",
    "        normalized_expression = expression / np.sum(expression, axis=1)[:, np.newaxis]\n",
    "        # flush to global\n",
    "        indices_gt = np.where(s_ct == ct)[0]\n",
    "        imputed_expression[indices_gt] = normalized_expression\n",
    "    \n",
    "    # score these predictions against GT\n",
    "    all_res = []\n",
    "    all_res_long = []\n",
    "    for ct in range(C):\n",
    "        # get local scores\n",
    "        indices_gt = np.where(s_ct == ct)[0]\n",
    "        # potentially filter genes for local scores only\n",
    "        gene_list = np.unique(np.hstack([np.where(components_[ct, i] != 0)[0] for i in range(D)]))\n",
    "        res = metrics_vector(s_groundtruth[indices_gt], imputed_expression[indices_gt], scaling=2e5, feature_shortlist=gene_list)\n",
    "        res_long = metrics_vector(s_groundtruth[indices_gt], imputed_expression[indices_gt], scaling=2e5)\n",
    "        all_res.append(pd.Series(res))\n",
    "        all_res_long.append(pd.Series(res_long))\n",
    "\n",
    "    all_res.append(pd.Series(metrics_vector(s_groundtruth, imputed_expression, scaling=2e5)))\n",
    "    all_res = all_res + all_res_long\n",
    "    df = pd.concat(all_res, axis=1)\n",
    "    prop_score = metrics_vector(st_adata.obsm[\"cell_type\"], agg_prop_estimates)\n",
    "    df = pd.concat([df, pd.Series(prop_score)], axis=1)\n",
    "    df.columns = [\"ct\" + str(i) for i in range(5)] + [\"ct_long\" + str(i) for i in range(5)] + [\"allct\", \"proportions\"]    \n",
    "    \n",
    "    return df.T.reset_index().rename(columns=dict(index=\"where_ct\"))"
   ]
  },
  {
   "cell_type": "markdown",
   "metadata": {},
   "source": [
    "## Training single-cell model & gathering spot neighborhood information"
   ]
  },
  {
   "cell_type": "code",
   "execution_count": 2,
   "metadata": {},
   "outputs": [],
   "source": [
    "# setup ann data\n",
    "scvi.data.setup_anndata(sc_adata, labels_key=\"cell_type\")\n",
    "mapping = sc_adata.uns[\"_scvi\"][\"categorical_mappings\"][\"_scvi_labels\"][\"mapping\"]\n",
    "\n",
    "# train sc-model\n",
    "sc_model = CondSCVI(sc_adata, n_latent=4, n_layers=2, n_hidden=128)\n",
    "sc_model.train(\n",
    "    max_epochs=sc_epochs,\n",
    "    plan_kwargs={\"n_epochs_kl_warmup\": 2},\n",
    "    progress_bar_refresh_rate=1,\n",
    ")\n",
    "plt.plot(sc_model.history[\"elbo_train\"], label=\"train\")\n",
    "plt.title(\"ELBO on train set over training epochs\")\n",
    "plt.legend()\n",
    "plt.savefig(output_dir + \"sc_model_training.png\")\n",
    "plt.clf()\n",
    "logger.info(f\"Last computed scELBO TRAIN: {sc_model.history['elbo_train'][-1]}\")\n",
    "_sc_model = copy.deepcopy(sc_model)"
   ]
  },
  {
   "cell_type": "code",
   "execution_count": 4,
   "metadata": {},
   "outputs": [
    {
     "data": {
      "text/html": [
       "<pre style=\"white-space:pre;overflow-x:auto;line-height:normal;font-family:Menlo,'DejaVu Sans Mono',consolas,'Courier New',monospace\"><span style=\"color: #000080; text-decoration-color: #000080\">INFO    </span> No batch_key inputted, assuming all cells are same batch                            \n",
       "</pre>\n"
      ],
      "text/plain": [
       "<rich.jupyter.JupyterRenderable at 0x7febccad9f50>"
      ]
     },
     "metadata": {},
     "output_type": "display_data"
    },
    {
     "data": {
      "text/html": [
       "<pre style=\"white-space:pre;overflow-x:auto;line-height:normal;font-family:Menlo,'DejaVu Sans Mono',consolas,'Courier New',monospace\"><span style=\"color: #000080; text-decoration-color: #000080\">INFO    </span> No label_key inputted, assuming all cells have same label                           \n",
       "</pre>\n"
      ],
      "text/plain": [
       "<rich.jupyter.JupyterRenderable at 0x7feb542a3350>"
      ]
     },
     "metadata": {},
     "output_type": "display_data"
    },
    {
     "data": {
      "text/html": [
       "<pre style=\"white-space:pre;overflow-x:auto;line-height:normal;font-family:Menlo,'DejaVu Sans Mono',consolas,'Courier New',monospace\"><span style=\"color: #000080; text-decoration-color: #000080\">INFO    </span> Using data from adata.X                                                             \n",
       "</pre>\n"
      ],
      "text/plain": [
       "<rich.jupyter.JupyterRenderable at 0x7feb542a3210>"
      ]
     },
     "metadata": {},
     "output_type": "display_data"
    },
    {
     "data": {
      "text/html": [
       "<pre style=\"white-space:pre;overflow-x:auto;line-height:normal;font-family:Menlo,'DejaVu Sans Mono',consolas,'Courier New',monospace\"><span style=\"color: #000080; text-decoration-color: #000080\">INFO    </span> Computing library size prior per batch                                              \n",
       "</pre>\n"
      ],
      "text/plain": [
       "<rich.jupyter.JupyterRenderable at 0x7feb542a34d0>"
      ]
     },
     "metadata": {},
     "output_type": "display_data"
    },
    {
     "data": {
      "text/html": [
       "<pre style=\"white-space:pre;overflow-x:auto;line-height:normal;font-family:Menlo,'DejaVu Sans Mono',consolas,'Courier New',monospace\"><span style=\"color: #000080; text-decoration-color: #000080\">INFO    </span> Successfully registered anndata object containing <span style=\"color: #000080; text-decoration-color: #000080; font-weight: bold\">1600</span> cells, <span style=\"color: #000080; text-decoration-color: #000080; font-weight: bold\">2000</span> vars, <span style=\"color: #000080; text-decoration-color: #000080; font-weight: bold\">1</span> batches, \n",
       "         <span style=\"color: #000080; text-decoration-color: #000080; font-weight: bold\">1</span> labels, and <span style=\"color: #000080; text-decoration-color: #000080; font-weight: bold\">0</span> proteins. Also registered <span style=\"color: #000080; text-decoration-color: #000080; font-weight: bold\">0</span> extra categorical covariates and <span style=\"color: #000080; text-decoration-color: #000080; font-weight: bold\">0</span> extra\n",
       "         continuous covariates.                                                              \n",
       "</pre>\n"
      ],
      "text/plain": [
       "<rich.jupyter.JupyterRenderable at 0x7febccafd290>"
      ]
     },
     "metadata": {},
     "output_type": "display_data"
    },
    {
     "data": {
      "text/html": [
       "<pre style=\"white-space:pre;overflow-x:auto;line-height:normal;font-family:Menlo,'DejaVu Sans Mono',consolas,'Courier New',monospace\"><span style=\"color: #000080; text-decoration-color: #000080\">INFO    </span> Please do not further modify adata until model is trained.                          \n",
       "</pre>\n"
      ],
      "text/plain": [
       "<rich.jupyter.JupyterRenderable at 0x7feb54263d90>"
      ]
     },
     "metadata": {},
     "output_type": "display_data"
    }
   ],
   "source": [
    "mean_vprior, var_vprior = sc_model.get_vamp_prior(sc_adata, p=100)\n",
    "x_n, ind_n = construct_neighboors(st_adata, n_neighbors=5)\n",
    "attribs = construct_spatial_partition(st_adata)\n",
    "st_adata.obsm[\"x_n\"] = x_n\n",
    "st_adata.obsm[\"ind_n\"] = ind_n\n",
    "scvi.data.setup_anndata(st_adata)\n",
    "\n",
    "mult_ = 1\n",
    "amortizations = [\n",
    "    \"none\",\n",
    "    \"latent\",\n",
    "    \"proportion\",\n",
    "    \"both\",\n",
    "]\n",
    "amortization = \"latent\""
   ]
  },
  {
   "cell_type": "code",
   "execution_count": 54,
   "metadata": {},
   "outputs": [],
   "source": [
    "loc_df = pd.DataFrame(st_adata.obsm[\"locations\"])\n",
    "loc_df.columns = [\"x\", \"y\"]\n",
    "loc_df = (\n",
    "    loc_df\n",
    "    .reset_index()\n",
    "    .rename(columns={\"index\": \"spot\"})\n",
    ")\n",
    "\n",
    "gt_props = pd.DataFrame(st_adata.obsm[\"cell_type\"])\n",
    "gt_props.columns = [\"ct0\", \"ct1\", \"ct2\", \"ct3\", \"ct4\"]\n",
    "gt_props = (\n",
    "    gt_props\n",
    "    .stack()\n",
    "    .to_frame(\"proportion_gt\")\n",
    "    .reset_index()\n",
    "    .rename(columns={\"level_0\": \"spot\", \"level_1\": \"celltype\"})\n",
    ")\n"
   ]
  },
  {
   "cell_type": "code",
   "execution_count": 21,
   "metadata": {},
   "outputs": [
    {
     "data": {
      "text/plain": [
       "<matplotlib.collections.PathCollection at 0x7feacaba3b10>"
      ]
     },
     "execution_count": 21,
     "metadata": {},
     "output_type": "execute_result"
    },
    {
     "data": {
      "image/png": "[encoded data removed]",
      "text/plain": [
       "<Figure size 432x288 with 1 Axes>"
      ]
     },
     "metadata": {
      "needs_background": "light"
     },
     "output_type": "display_data"
    }
   ],
   "source": [
    "rdm_indices = [1, 25, 100, 1000]\n",
    "plt.scatter(st_adata.obsm[\"locations\"][rdm_indices, 0], st_adata.obsm[\"locations\"][rdm_indices, 1])\n",
    "n_locs = st_adata.obsm[\"locations\"][st_adata.obsm[\"ind_n\"][rdm_indices]].reshape(-1, 2)\n",
    "plt.scatter(n_locs[:, 0], n_locs[:, 1])"
   ]
  },
  {
   "cell_type": "markdown",
   "metadata": {},
   "source": [
    "## Step 0: get ground-truth"
   ]
  },
  {
   "cell_type": "code",
   "execution_count": 506,
   "metadata": {},
   "outputs": [],
   "source": [
    "param_path = \"/data/yosef2/users/pierreboyeau/data/spatial_data/\"\n",
    "PCA_path = param_path + \"grtruth_PCA.npz\"\n",
    "grtruth_PCA = np.load(PCA_path)\n",
    "mean_, components_ = grtruth_PCA[\"mean_\"], grtruth_PCA[\"components_\"]\n",
    "\n",
    "C = components_.shape[0]\n",
    "D = components_.shape[1]\n",
    "\n",
    "threshold_gt = 0.4\n",
    "spot_selection = np.where(st_adata.obsm[\"cell_type\"].max(1) > threshold_gt)[0]\n",
    "s_location = st_adata.obsm[\"locations\"][spot_selection]\n",
    "s_ct = st_adata.obsm[\"cell_type\"][spot_selection, :].argmax(1)\n",
    "s_gamma = st_adata.obsm[\"gamma\"][spot_selection]\n",
    "# get normal means\n",
    "s_groundtruth = get_mean_normal(s_ct[:, None], s_gamma[:, None], mean_, components_)[:, 0, :]\n",
    "s_groundtruth[s_groundtruth < 0] = 0\n",
    "s_groundtruth = np.expm1(s_groundtruth)\n",
    "s_groundtruth = s_groundtruth / np.sum(s_groundtruth, axis=1)[:, np.newaxis]\n",
    "\n",
    "df = destvi_get_metrics(spatial_model_prior)\n",
    "df.head()"
   ]
  },
  {
   "cell_type": "markdown",
   "metadata": {},
   "source": [
    "## Step 1: estimate GT $\\lambda$"
   ]
  },
  {
   "cell_type": "markdown",
   "metadata": {},
   "source": [
    "### Grid search"
   ]
  },
  {
   "cell_type": "code",
   "execution_count": null,
   "metadata": {
    "collapsed": true,
    "jupyter": {
     "outputs_hidden": true
    },
    "tags": []
   },
   "outputs": [],
   "source": [
    "lamb_scales = np.geomspace(1e3, 1e9, 50)\n",
    "\n",
    "WORKING_DIRB = os.path.join(WORKING_DIR, \"mdl_ckpt\")\n",
    "\n",
    "gridsearch_res = pd.DataFrame()\n",
    "gridsearch_metrics_res = pd.DataFrame()\n",
    "for lamb in lamb_scales:\n",
    "    for seed in range(3):\n",
    "        for n_neig in [3, 5]:\n",
    "            for mode in [\"pair\"]:\n",
    "                save_feat = [lamb, n_neig, seed]\n",
    "                save_feat = [str(sv) for sv in save_feat]\n",
    "                savename = \"_\".join(save_feat) + \"nn_step1_25pts.pt\"\n",
    "                mdl_path = os.path.join(WORKING_DIRB, savename)\n",
    "                x_n, ind_n = construct_neighboors(st_adata, n_neighbors=n_neig)\n",
    "                attribs = construct_spatial_partition(st_adata)\n",
    "                st_adata.obsm[\"x_n\"] = x_n\n",
    "                st_adata.obsm[\"ind_n\"] = ind_n\n",
    "                scvi.data.setup_anndata(st_adata)\n",
    "                print(x_n.shape)\n",
    "\n",
    "                if os.path.exists(mdl_path):\n",
    "                    print(\"Model exists ...\")\n",
    "                    spatial_model_prior = DestVISpatial.load(mdl_path, st_adata)\n",
    "                else:\n",
    "                    print(\"Model does not exists ...\")\n",
    "                    spatial_model_prior = DestVISpatial.from_rna_model(\n",
    "                        st_adata,\n",
    "                        _sc_model,\n",
    "                        mean_vprior=mean_vprior,\n",
    "                        var_vprior=mult_ * var_vprior,\n",
    "                        amortization=amortization,\n",
    "                        spatial_prior=True, \n",
    "                        spatial_agg=mode,\n",
    "                        lamb=lamb,\n",
    "                    )\n",
    "                    spatial_model_prior.train(\n",
    "                        max_epochs=2000,\n",
    "                        train_size=1,\n",
    "                        plan_kwargs=dict(\n",
    "                            lr=1e-2, \n",
    "                            n_epochs_kl_warmup=400,\n",
    "                        ),\n",
    "                        progress_bar_refresh_rate=0,\n",
    "                    )\n",
    "                    spatial_model_prior.save(mdl_path)\n",
    "                df = destvi_get_metrics(spatial_model_prior)\n",
    "                props_all_metrics = (\n",
    "                    df\n",
    "                    .assign(\n",
    "                        Model=mode,\n",
    "                        lamb=lamb,\n",
    "                        n_neig=n_neig,\n",
    "                        seed=seed,\n",
    "                    )\n",
    "                )\n",
    "\n",
    "                gridsearch_metrics_res = (\n",
    "                    gridsearch_metrics_res.append(props_all_metrics, ignore_index=True)\n",
    "                )\n"
   ]
  },
  {
   "cell_type": "code",
   "execution_count": null,
   "metadata": {},
   "outputs": [],
   "source": [
    "spatial_model_gt = DestVISpatial.from_rna_model(\n",
    "    st_adata,\n",
    "    _sc_model,\n",
    "    mean_vprior=mean_vprior,\n",
    "    var_vprior=mult_ * var_vprior,\n",
    "    amortization=amortization,\n",
    "    spatial_prior=False,\n",
    ")\n",
    "spatial_model_gt.train(\n",
    "    max_epochs=1000,\n",
    "    train_size=1,\n",
    "    plan_kwargs=dict(\n",
    "        lr=1e-1, \n",
    "        n_epochs_kl_warmup=100,\n",
    "    ),\n",
    "    progress_bar_refresh_rate=1,\n",
    ")\n",
    "\n",
    "\n",
    "df = destvi_get_metrics(spatial_model_gt)\n",
    "props_all_metrics = (\n",
    "    df\n",
    "    .assign(\n",
    "        Model=mode,\n",
    "        lamb=-np.infty,\n",
    "        n_neig=n_neig,\n",
    "    )\n",
    ")\n",
    "gridsearch_metrics_res = gridsearch_metrics_res.append(props_all_metrics, ignore_index=True)"
   ]
  },
  {
   "cell_type": "code",
   "execution_count": 1383,
   "metadata": {},
   "outputs": [],
   "source": [
    "validation_gt_df = gridsearch_metrics_res.sort_values(\"lamb\").copy()"
   ]
  },
  {
   "cell_type": "markdown",
   "metadata": {},
   "source": [
    "## Step 2: Gene CV"
   ]
  },
  {
   "cell_type": "markdown",
   "metadata": {},
   "source": [
    "### Prelim: Try to find gene modules"
   ]
  },
  {
   "cell_type": "code",
   "execution_count": 980,
   "metadata": {},
   "outputs": [],
   "source": [
    "expression = sc_model.get_normalized_expression()\n",
    "\n",
    "cts = sc_model.adata.obs[\"cell_type\"]\n",
    "\n",
    "scvi_model = SCVI(sc_adata, n_latent=2, n_layers=2, n_hidden=128)\n",
    "scvi_model.train(\n",
    "    max_epochs=sc_epochs,\n",
    "    plan_kwargs={\"n_epochs_kl_warmup\": 2},\n",
    "    progress_bar_refresh_rate=1,\n",
    ")\n",
    "\n",
    "latent = scvi_model.get_latent_representation()\n",
    "\n",
    "latent_ = pd.DataFrame(latent)\n",
    "latent_.index = [\"cell\" + str(col) for col in latent_.index]\n",
    "expression_ = expression.T\n",
    "expression_.columns = [\"cell\"+ str(col) for col in expression_.columns]"
   ]
  },
  {
   "cell_type": "code",
   "execution_count": 1090,
   "metadata": {},
   "outputs": [],
   "source": [
    "import hotspot\n",
    "hs = hotspot.Hotspot(expression_, model='none', latent=latent_)\n",
    "\n",
    "hs.create_knn_graph(weighted_graph=False, n_neighbors=30)\n",
    "hs_results = hs.compute_autocorrelations()\n",
    "\n",
    "# hs_genes = hs_results.loc[hs_results.FDR < 0.05].index # Select genes\n",
    "hs_genes = hs_results.index\n",
    "local_correlations = hs.compute_local_correlations(hs_genes, jobs=20) # jobs for parallelization\n",
    "\n",
    "modules = hs.create_modules(\n",
    "    min_gene_threshold=30, core_only=False, fdr_threshold=0.05\n",
    ")"
   ]
  },
  {
   "cell_type": "code",
   "execution_count": 1110,
   "metadata": {},
   "outputs": [],
   "source": [
    "gene_train_indices = (\n",
    "    modules\n",
    "    .groupby(modules)\n",
    "    .apply(lambda x: x.sample(frac=0.5).index.to_series().astype(int))\n",
    "    .to_frame(\"indices\")\n",
    "    .reset_index()\n",
    "    .indices\n",
    "    .values\n",
    ")\n",
    "\n",
    "gene_folds = np.isin(np.arange(ngenes), gene_train_indices)\n",
    "\n",
    "nfolds = 2\n",
    "ngenes = st_adata.X.shape[-1]\n",
    "heldout_folds = np.arange(nfolds)\n",
    "\n",
    "for heldout in heldout_folds[:-1]:\n",
    "    training_mask = gene_folds != heldout\n",
    "    training_mask = torch.tensor(training_mask)\n",
    "    test_mask = ~training_mask\n",
    "    print(training_mask.sum(), test_mask.sum())"
   ]
  },
  {
   "cell_type": "markdown",
   "metadata": {},
   "source": [
    "### Grid search"
   ]
  },
  {
   "cell_type": "code",
   "execution_count": 1112,
   "metadata": {},
   "outputs": [],
   "source": [
    "st_epochs = 500\n",
    "cv_results = pd.DataFrame()\n",
    "cv_results_metrics = pd.DataFrame()\n",
    "# for heldout in heldout_folds:\n",
    "for heldout in heldout_folds[:-1]:\n",
    "    training_mask = gene_folds != heldout\n",
    "    training_mask = torch.tensor(training_mask)\n",
    "    test_mask = ~training_mask\n",
    "    for lamb in lamb_scales:\n",
    "        save_feat = [lamb, n_neig, heldout]\n",
    "        save_feat = [str(sv) for sv in save_feat]\n",
    "        savename = \"_\".join(save_feat) + \"_step2_25pts_500___1epcs_stratified.pt\"\n",
    "        \n",
    "        \n",
    "        mdl_path = os.path.join(WORKING_DIRB, savename)\n",
    "        if os.path.exists(mdl_path):\n",
    "            spatial_model = DestVISpatial.load(mdl_path, st_adata)\n",
    "            spatial_model.construct_loaders()\n",
    "        else:\n",
    "            spatial_model = DestVISpatial.from_rna_model(\n",
    "                st_adata,\n",
    "                _sc_model,\n",
    "                mean_vprior=mean_vprior,\n",
    "                var_vprior=mult_ * var_vprior,\n",
    "                amortization=amortization,\n",
    "                spatial_prior=True,\n",
    "                spatial_agg=\"pair\",\n",
    "                lamb=lamb,\n",
    "                training_mask=training_mask,\n",
    "            )\n",
    "\n",
    "            # Step 1: training genes\n",
    "            spatial_model.train(\n",
    "                max_epochs=1000,\n",
    "                train_size=1,\n",
    "                plan_kwargs=dict(\n",
    "                    lr=1e-2, \n",
    "                    loss_mask=training_mask,\n",
    "                    n_epochs_kl_warmup=400,\n",
    "                ),\n",
    "                progress_bar_refresh_rate=1,\n",
    "            )\n",
    "\n",
    "            pass_results = pd.DataFrame(spatial_model.history).assign(\n",
    "                heldout=heldout,\n",
    "                lamb=lamb,\n",
    "                train_phase=True,\n",
    "            )\n",
    "            cv_results = cv_results.append(pass_results, ignore_index=True)\n",
    "\n",
    "            # Step 2: heldout genes\n",
    "            myparameters = [spatial_model.module.eta] + [spatial_model.module.beta]\n",
    "            myparameters = filter(lambda p: p.requires_grad, myparameters)\n",
    "            spatial_model.train(\n",
    "                max_epochs=st_epochs,\n",
    "                train_size=1,\n",
    "                progress_bar_refresh_rate=1,\n",
    "                plan_kwargs=dict(\n",
    "                    lr=1e-2, \n",
    "                    loss_mask=test_mask, \n",
    "                    myparameters=myparameters,\n",
    "                    n_epochs_kl_warmup=400,\n",
    "                ),\n",
    "            )\n",
    "            spatial_model.save(mdl_path)\n",
    "        pass_results = pd.DataFrame(spatial_model.history).assign(\n",
    "            heldout=heldout,\n",
    "            lamb=lamb,\n",
    "            train_phase=False\n",
    "        )\n",
    "        cv_results = cv_results.append(pass_results, ignore_index=True)\n",
    "        cv_results.to_pickle(os.path.join(WORKING_DIR, \"spatial_cv.pickle\"))\n",
    "    \n",
    "        rec_loss, rec_loss_all = spatial_model.get_metric()\n",
    "        gene_infos = pd.DataFrame(\n",
    "            {\n",
    "                \"gene\": [\"full\"] + list(np.arange(len(rec_loss_all))),\n",
    "                \"reconstruction\": [rec_loss] + list(rec_loss_all)\n",
    "            }\n",
    "        ).assign(\n",
    "            heldout=heldout,\n",
    "            lamb=lamb,\n",
    "            train_phase=False\n",
    "        )\n",
    "        cv_results_metrics = cv_results_metrics.append(gene_infos, ignore_index=True)\n",
    "\n",
    "    "
   ]
  },
  {
   "cell_type": "markdown",
   "metadata": {},
   "source": [
    "## Step 3: Verifying properties"
   ]
  },
  {
   "cell_type": "code",
   "execution_count": 1391,
   "metadata": {},
   "outputs": [
    {
     "name": "stderr",
     "output_type": "stream",
     "text": [
      "/data/yosef2/users/pierreboyeau/conda/envs/spatial2/lib/python3.7/site-packages/ipykernel_launcher.py:9: FutureWarning: Indexing with multiple keys (implicitly converted to a tuple of keys) will be deprecated, use a list instead.\n"
     ]
    }
   ],
   "source": [
    "plot_df_val = (\n",
    "    validation_gt_df\n",
    "    .assign(lambdd=lambda x: np.log10(x.lamb))\n",
    "    .assign(lambdd=lambda x: x.lambdd.fillna(0.))\n",
    "#     .loc[lambda x: x.Model == \"pair\"]\n",
    "    .loc[lambda x: x.where_ct == \"proportions\"]\n",
    "    .loc[lambda x: x.n_neig == 5]\n",
    "    .groupby([\"lambdd\", \"n_neig\", \"Model\", \"where_ct\"])\n",
    "    [\"avg_spearman\", \"avg_pearson\", \"median_l1\", \"mse\"]\n",
    "    .mean()\n",
    "    .reset_index()\n",
    ")\n",
    "\n",
    "plot_df_cv = (\n",
    "    cv_results_metrics\n",
    "    .loc[lambda x: x.gene != \"full\"]\n",
    "    .assign(lambdd=lambda x: np.log10(x.lamb))\n",
    "    .groupby(\"lambdd\")\n",
    "    .reconstruction\n",
    "#     .median()\n",
    "    .max()\n",
    "    .reset_index()\n",
    ")"
   ]
  },
  {
   "cell_type": "code",
   "execution_count": 1392,
   "metadata": {},
   "outputs": [],
   "source": [
    "met_name = \"avg_spearman\"\n",
    "# orac_name = \"reconstruction_loss_train\"\n",
    "orac_name = \"reconstruction\"\n",
    "#     [\"reconstruction_loss_train\", \"kl_local_train\", \"kl_global_train\"]\n"
   ]
  },
  {
   "cell_type": "code",
   "execution_count": 1393,
   "metadata": {},
   "outputs": [],
   "source": [
    "ref_met = plot_df_val.iloc[0][met_name]"
   ]
  },
  {
   "cell_type": "code",
   "execution_count": 1433,
   "metadata": {},
   "outputs": [],
   "source": [
    "plt.rcParams['ps.useafm'] = True\n",
    "plt.rcParams['pdf.use14corefonts'] = True\n",
    "plt.rcParams['svg.fonttype'] = 'none'\n",
    "plt.rcParams['text.usetex'] = False"
   ]
  },
  {
   "cell_type": "code",
   "execution_count": 1437,
   "metadata": {},
   "outputs": [
    {
     "data": {
      "image/png": "[encoded data removed]",
      "text/plain": [
       "<Figure size 288x216 with 2 Axes>"
      ]
     },
     "metadata": {
      "needs_background": "light"
     },
     "output_type": "display_data"
    }
   ],
   "source": [
    "fig, axes = plt.subplots(nrows=1, sharex=True, figsize=(4, 3))\n",
    "plt.plot(\n",
    "    plot_df_val.iloc[1:].lambdd, \n",
    "    plot_df_val.iloc[1:][met_name],\n",
    "    c=\"blue\"\n",
    ")\n",
    "lambdstar = plot_df_val.iloc[1:][met_name]\n",
    "xmin, xmax = plt.xlim()\n",
    "orac = plot_df_val.iloc[1:].set_index(\"lambdd\")[met_name]\n",
    "lambdstar = orac.idxmax()\n",
    "corrmax = orac.max()\n",
    "plt.hlines(ref_met, xmin, xmax, color=\"black\")\n",
    "plt.ylabel(\"Mean proportions correlation\", c=\"blue\")\n",
    "ymin, ymax = plt.ylim()\n",
    "plt.locator_params(axis='y', nbins=5)\n",
    "plt.vlines(lambdstar, ymin, corrmax, color=\"black\", linestyle=\"--\")\n",
    "\n",
    "plt.twinx()\n",
    "plt.plot(plot_df_cv.lambdd, plot_df_cv[orac_name], c=\"red\")\n",
    "lambda_best = plot_df_cv.set_index(\"lambdd\").reconstruction.idxmin()\n",
    "reco_best = plot_df_cv.set_index(\"lambdd\").reconstruction.min()\n",
    "ymin, ymax = plt.ylim()\n",
    "plt.vlines(lambda_best, ymin, reco_best, color=\"black\", linestyle=\"--\")\n",
    "# plt.ylim(ymin, 25000)\n",
    "# plt.ylim(ymin, 1800)\n",
    "plt.ylabel(\"Heldout reconstruction error\", c=\"red\")\n",
    "plt.xlabel(\"Prior strenght\")\n",
    "plt.locator_params(axis='y', nbins=6)\n",
    "\n",
    "ticks = [4, 8, lambda_best, lambdstar]\n",
    "labels = [\n",
    "    4, \n",
    "    8, \n",
    "    \"$\\hat \\lambda \\approx$ {:.2f}\".format(lambda_best),\n",
    "    \"$\\lambda\\^ \\star \\approx$ {:.2f}\".format(lambdstar)\n",
    "]\n",
    "plt.xticks(ticks, labels)\n",
    "# plt.xticks(list(plt.xticks()[0]) + [lambda_best])\n",
    "plt.tight_layout()\n",
    "plt.savefig(\"spatialprior.svg\")"
   ]
  }
 ],
 "metadata": {
  "kernelspec": {
   "display_name": "Python [conda env:spatial2] *",
   "language": "python",
   "name": "conda-env-spatial2-py"
  },
  "language_info": {
   "codemirror_mode": {
    "name": "ipython",
    "version": 3
   },
   "file_extension": ".py",
   "mimetype": "text/x-python",
   "name": "python",
   "nbconvert_exporter": "python",
   "pygments_lexer": "ipython3",
   "version": "3.7.10"
  }
 },
 "nbformat": 4,
 "nbformat_minor": 4
}
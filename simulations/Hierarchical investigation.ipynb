{
 "cells": [
  {
   "cell_type": "code",
   "execution_count": 1,
   "id": "military-ideal",
   "metadata": {},
   "outputs": [],
   "source": [
    "import pandas as pd\n",
    "import numpy as np\n",
    "import scanpy as sc\n",
    "\n",
    "import matplotlib.pyplot as plt\n",
    "%matplotlib inline\n",
    "import seaborn as sns"
   ]
  },
  {
   "cell_type": "code",
   "execution_count": 2,
   "id": "occupied-netherlands",
   "metadata": {},
   "outputs": [],
   "source": [
    "from utils import get_mean_normal, find_location_index_cell_type, metrics_vector, discrete_histogram\n",
    "import scanpy as sc\n",
    "import matplotlib.pyplot as plt\n",
    "import seaborn as sns\n",
    "import pandas as pd\n",
    "import anndata"
   ]
  },
  {
   "cell_type": "code",
   "execution_count": 3,
   "id": "romantic-ownership",
   "metadata": {},
   "outputs": [],
   "source": [
    "from scvi.model import DestVI"
   ]
  },
  {
   "cell_type": "code",
   "execution_count": 4,
   "id": "subtle-console",
   "metadata": {},
   "outputs": [],
   "source": [
    "from sklearn.svm import LinearSVC\n",
    "from sklearn.ensemble import RandomForestClassifier\n",
    "from sklearn.metrics import accuracy_score"
   ]
  },
  {
   "cell_type": "code",
   "execution_count": 5,
   "id": "biological-saturn",
   "metadata": {},
   "outputs": [],
   "source": [
    "sns.reset_orig()\n",
    "sc.settings._vector_friendly = True\n",
    "# p9.theme_set(p9.theme_classic)\n",
    "plt.rcParams[\"svg.fonttype\"] = \"none\"\n",
    "plt.rcParams[\"pdf.fonttype\"] = 42\n",
    "plt.rcParams[\"savefig.transparent\"] = True\n",
    "plt.rcParams[\"figure.figsize\"] = (4, 4)\n",
    "\n",
    "plt.rcParams[\"axes.titlesize\"] = 15\n",
    "plt.rcParams[\"axes.titleweight\"] = 500\n",
    "plt.rcParams[\"axes.titlepad\"] = 8.0\n",
    "plt.rcParams[\"axes.labelsize\"] = 14\n",
    "plt.rcParams[\"axes.labelweight\"] = 500\n",
    "plt.rcParams[\"axes.linewidth\"] = 1.2\n",
    "plt.rcParams[\"axes.labelpad\"] = 6.0\n",
    "plt.rcParams[\"axes.spines.top\"] = False\n",
    "plt.rcParams[\"axes.spines.right\"] = False\n",
    "\n",
    "plt.rcParams[\"font.size\"] = 11\n",
    "# plt.rcParams['font.family'] = 'sans-serif'\n",
    "plt.rcParams['font.sans-serif'] = ['Helvetica', \"Computer Modern Sans Serif\", \"DejaVU Sans\"]\n",
    "plt.rcParams['font.weight'] = 500\n",
    "\n",
    "plt.rcParams['xtick.labelsize'] = 12\n",
    "plt.rcParams['xtick.minor.size'] = 1.375\n",
    "plt.rcParams['xtick.major.size'] = 2.75\n",
    "plt.rcParams['xtick.major.pad'] = 2\n",
    "plt.rcParams['xtick.minor.pad'] = 2\n",
    "\n",
    "plt.rcParams['ytick.labelsize'] = 12\n",
    "plt.rcParams['ytick.minor.size'] = 1.375\n",
    "plt.rcParams['ytick.major.size'] = 2.75\n",
    "plt.rcParams['ytick.major.pad'] = 2\n",
    "plt.rcParams['ytick.minor.pad'] = 2\n",
    "\n",
    "plt.rcParams[\"legend.fontsize\"] = 12\n",
    "plt.rcParams['legend.handlelength'] = 1.4\n",
    "plt.rcParams['legend.numpoints'] = 1\n",
    "plt.rcParams['legend.scatterpoints'] = 3\n",
    "plt.rcParams['legend.frameon'] = False\n",
    "\n",
    "plt.rcParams['lines.linewidth'] = 1.7\n",
    "\n",
    "DPI = 300"
   ]
  },
  {
   "cell_type": "code",
   "execution_count": 6,
   "id": "operating-chrome",
   "metadata": {},
   "outputs": [],
   "source": [
    "path = \"/home/ubuntu/simu_runs/run_B\"\n",
    "\n",
    "sc_adata = sc.read_h5ad(path+\"/sc_simu.h5ad\")\n",
    "st_adata = sc.read_h5ad(path+\"/st_simu.h5ad\")"
   ]
  },
  {
   "cell_type": "code",
   "execution_count": 12,
   "id": "diagnostic-pilot",
   "metadata": {},
   "outputs": [],
   "source": [
    "# learn one model per cell type\n",
    "rf_model = {}\n",
    "# SVC has convergence issues; sticking to RF\n",
    "# svc_model = {}\n",
    "for ct in range(5):\n",
    "    indices = np.where(sc_adata.obs[\"cell_type\"] == ct)[0]\n",
    "    x_train = sc_adata.X[indices]\n",
    "    y_train = sc_adata.obs[\"8th_sub-cell_type\"][indices] - 8 * ct\n",
    "    rf_model[ct] = RandomForestClassifier(n_jobs=4).fit(x_train, y_train)\n",
    "#     svc_model[ct] = LinearSVC().fit(x_train, y_train)"
   ]
  },
  {
   "cell_type": "code",
   "execution_count": 13,
   "id": "experimental-supply",
   "metadata": {},
   "outputs": [],
   "source": [
    "def hash_loc(loc):\n",
    "    if len(loc.shape) == 1:\n",
    "        return loc[0] * loc[1] * 4\n",
    "    else:\n",
    "        return loc[:, 0] * loc[:, 1] * 4"
   ]
  },
  {
   "cell_type": "code",
   "execution_count": 14,
   "id": "provincial-milan",
   "metadata": {},
   "outputs": [
    {
     "name": "stdout",
     "output_type": "stream",
     "text": [
      "\u001b[34mINFO    \u001b[0m Using data from adata.X                                                             \n",
      "\u001b[34mINFO    \u001b[0m Computing library size prior per batch                                              \n",
      "\u001b[34mINFO    \u001b[0m Registered keys:\u001b[1m[\u001b[0m\u001b[32m'X'\u001b[0m, \u001b[32m'batch_indices'\u001b[0m, \u001b[32m'local_l_mean'\u001b[0m, \u001b[32m'local_l_var'\u001b[0m, \u001b[32m'labels'\u001b[0m,     \n",
      "         \u001b[32m'ind_x'\u001b[0m\u001b[1m]\u001b[0m                                                                            \n",
      "\u001b[34mINFO    \u001b[0m Successfully registered anndata object containing \u001b[1;34m1600\u001b[0m cells, \u001b[1;34m2000\u001b[0m vars, \u001b[1;34m1\u001b[0m batches, \n",
      "         \u001b[1;34m1\u001b[0m labels, and \u001b[1;34m0\u001b[0m proteins. Also registered \u001b[1;34m0\u001b[0m extra categorical covariates and \u001b[1;34m0\u001b[0m extra\n",
      "         continuous covariates.                                                              \n"
     ]
    }
   ],
   "source": [
    "spatial_model = DestVI.load(path+\"/destvi_latent\", st_adata)"
   ]
  },
  {
   "cell_type": "code",
   "execution_count": 30,
   "id": "wicked-allah",
   "metadata": {},
   "outputs": [],
   "source": [
    "threshold_gt = 0.4\n",
    "spot_selection = np.where(st_adata.obsm[\"cell_type\"].max(1) > threshold_gt)[0]\n",
    "s_location = st_adata.obsm[\"locations\"][spot_selection]\n",
    "s_ct = st_adata.obsm[\"cell_type\"][spot_selection, :].argmax(1)\n",
    "s_gamma = st_adata.obsm[\"gamma\"][spot_selection]\n",
    "# order the locations in the single-cell to recover the mapping ST <-> scRNA\n",
    "_, rank = np.unique(sc_adata.obsm[\"locations\"], return_inverse=True, axis=0)\n",
    "\n",
    "res = []\n",
    "for ct in range(5):\n",
    "    # for a given cell type, select spots with high density\n",
    "    indices, _ = find_location_index_cell_type(st_adata.obsm[\"locations\"], ct, \n",
    "                                        s_location, s_ct)\n",
    "    y_true = []\n",
    "    for i in indices:\n",
    "        sc_i = np.where(rank == i)[0]\n",
    "        items = range(ct*8, (ct + 1)*8)\n",
    "        y_true += [sc_adata.obs[\"8th_sub-cell_type\"][sc_i].value_counts().filter(items).idxmax()]\n",
    "    y_true = np.array(y_true) - 8 * ct\n",
    "    y_pred = rf_model[ct].predict(st_adata.X[indices])\n",
    "#         print(sc_adata.obs[\"cell_type\"][sc_i].value_counts())\n",
    "    \n",
    "    # TODO: Import the DestVI model and compare those estimates\n",
    "    expression = spatial_model.get_scale_for_ct(spatial_model.cell_type_mapping[ct], indices=indices).values\n",
    "    normalized_expression = expression / np.sum(expression, axis=1)[:, np.newaxis]\n",
    "    lib = sc_adata.obs[\"n_counts\"][sc_adata.obs[\"cell_type\"] == ct].mean()\n",
    "    y_pred_vi = rf_model[ct].predict(lib*normalized_expression)\n",
    "    \n",
    "    res += [[accuracy_score(y_true, y_pred), accuracy_score(y_true, y_pred_vi)]]"
   ]
  },
  {
   "cell_type": "code",
   "execution_count": 32,
   "id": "emerging-austria",
   "metadata": {},
   "outputs": [
    {
     "data": {
      "image/png": "[encoded data removed]",
      "text/plain": [
       "<Figure size 360x360 with 1 Axes>"
      ]
     },
     "metadata": {
      "needs_background": "light"
     },
     "output_type": "display_data"
    }
   ],
   "source": [
    "plt.figure(figsize=(5, 5))\n",
    "plt.violinplot(np.array(res))\n",
    "plt.ylabel(\"Accuracy of sub-cell type (8 per cell type)\")\n",
    "plt.xticks(ticks=[1, 2], labels=[\"Raw ST data\", \"DestVI imputed\"])\n",
    "plt.show()"
   ]
  },
  {
   "cell_type": "code",
   "execution_count": null,
   "id": "veterinary-frame",
   "metadata": {},
   "outputs": [],
   "source": []
  }
 ],
 "metadata": {
  "kernelspec": {
   "display_name": "spatialVI",
   "language": "python",
   "name": "spatialvi"
  },
  "language_info": {
   "codemirror_mode": {
    "name": "ipython",
    "version": 3
   },
   "file_extension": ".py",
   "mimetype": "text/x-python",
   "name": "python",
   "nbconvert_exporter": "python",
   "pygments_lexer": "ipython3",
   "version": "3.7.7"
  }
 },
 "nbformat": 4,
 "nbformat_minor": 5
}
